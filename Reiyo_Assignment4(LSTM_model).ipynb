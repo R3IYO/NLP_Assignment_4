{
  "cells": [
    {
      "cell_type": "markdown",
      "metadata": {
        "id": "view-in-github",
        "colab_type": "text"
      },
      "source": [
        "<a href=\"https://colab.research.google.com/github/R3IYO/NLP_Assignment_4/blob/main/Reiyo_Assignment4(LSTM_model).ipynb\" target=\"_parent\"><img src=\"https://colab.research.google.com/assets/colab-badge.svg\" alt=\"Open In Colab\"/></a>"
      ]
    },
    {
      "cell_type": "markdown",
      "source": [
        "# Group Memebers\n",
        "    Reiyo\n",
        "    Sayed Raheel\n",
        "    Shashidhar Reddy\n",
        "    Onkar Kunte"
      ],
      "metadata": {
        "id": "kp-jx1u3GKOH"
      }
    },
    {
      "cell_type": "markdown",
      "metadata": {
        "id": "QD5ia2HsZpsC"
      },
      "source": [
        "# Part III\n",
        "Using the previous two tutorials, please answer the following using an encorder-decoder approach and an LSTM compared approach.\n",
        "\n",
        "Please create a transformer-based classifier for English name classification into male or female.\n",
        "\n",
        "There are several datasets for name for male or female classification. In subseuqent iterations, this could be expanded to included more classifications.\n",
        "\n",
        "Below is the source from NLTK, which only has male and female available but could be used for the purposes of this assignment.\n",
        "\n",
        "```\n",
        "names = nltk.corpus.names\n",
        "names.fileids()\n",
        "['female.txt', 'male.txt']\n",
        "male_names = names.words('male.txt')\n",
        "female_names = names.words('female.txt')\n",
        "[w for w in male_names if w in female_names]\n",
        "['Abbey', 'Abbie', 'Abby', 'Addie', 'Adrian', 'Adrien', 'Ajay', 'Alex', 'Alexis',\n",
        "'Alfie', 'Ali', 'Alix', 'Allie', 'Allyn', 'Andie', 'Andrea', 'Andy', 'Angel',\n",
        "'Angie', 'Ariel', 'Ashley', 'Aubrey', 'Augustine', 'Austin', 'Averil', ...]\n",
        "```"
      ]
    },
    {
      "cell_type": "markdown",
      "source": [
        "###__We will build an LSTM classifier for the names in this notebook__"
      ],
      "metadata": {
        "id": "8nOhS1qfLLQP"
      }
    },
    {
      "cell_type": "markdown",
      "source": [
        "# Installing Dependencies"
      ],
      "metadata": {
        "id": "3SLj1awxGUSF"
      }
    },
    {
      "cell_type": "code",
      "execution_count": 64,
      "metadata": {
        "colab": {
          "base_uri": "https://localhost:8080/"
        },
        "id": "BZKZl11hFKmr",
        "outputId": "c132c56f-bba8-45fb-81a4-cc9646643e4f"
      },
      "outputs": [
        {
          "output_type": "stream",
          "name": "stdout",
          "text": [
            "Requirement already satisfied: nltk in /usr/local/lib/python3.10/dist-packages (3.8.1)\n",
            "Requirement already satisfied: click in /usr/local/lib/python3.10/dist-packages (from nltk) (8.1.6)\n",
            "Requirement already satisfied: joblib in /usr/local/lib/python3.10/dist-packages (from nltk) (1.3.1)\n",
            "Requirement already satisfied: regex>=2021.8.3 in /usr/local/lib/python3.10/dist-packages (from nltk) (2022.10.31)\n",
            "Requirement already satisfied: tqdm in /usr/local/lib/python3.10/dist-packages (from nltk) (4.65.0)\n"
          ]
        }
      ],
      "source": [
        "!pip install nltk"
      ]
    },
    {
      "cell_type": "code",
      "execution_count": 65,
      "metadata": {
        "colab": {
          "base_uri": "https://localhost:8080/"
        },
        "id": "vAW2aglb8yfl",
        "outputId": "d4539fbd-d88a-48b3-fa14-ecb3e28baa59"
      },
      "outputs": [
        {
          "output_type": "stream",
          "name": "stdout",
          "text": [
            "Requirement already satisfied: imbalanced-learn in /usr/local/lib/python3.10/dist-packages (0.10.1)\n",
            "Requirement already satisfied: numpy>=1.17.3 in /usr/local/lib/python3.10/dist-packages (from imbalanced-learn) (1.22.4)\n",
            "Requirement already satisfied: scipy>=1.3.2 in /usr/local/lib/python3.10/dist-packages (from imbalanced-learn) (1.10.1)\n",
            "Requirement already satisfied: scikit-learn>=1.0.2 in /usr/local/lib/python3.10/dist-packages (from imbalanced-learn) (1.2.2)\n",
            "Requirement already satisfied: joblib>=1.1.1 in /usr/local/lib/python3.10/dist-packages (from imbalanced-learn) (1.3.1)\n",
            "Requirement already satisfied: threadpoolctl>=2.0.0 in /usr/local/lib/python3.10/dist-packages (from imbalanced-learn) (3.2.0)\n"
          ]
        }
      ],
      "source": [
        "!pip install imbalanced-learn"
      ]
    },
    {
      "cell_type": "markdown",
      "source": [
        "#Importing Necessary Libraries"
      ],
      "metadata": {
        "id": "TH32e5SRGaIO"
      }
    },
    {
      "cell_type": "code",
      "source": [
        "import numpy as np\n",
        "import tensorflow as tf\n",
        "import nltk\n",
        "import time\n",
        "from sklearn.model_selection import train_test_split\n",
        "from sklearn.preprocessing import LabelEncoder\n",
        "from imblearn.over_sampling import SMOTE\n",
        "import numpy as np\n",
        "import pandas as pd\n",
        "import matplotlib.pyplot as plt\n",
        "import seaborn as sns\n",
        "import warnings\n",
        "from sklearn.metrics import accuracy_score, precision_score, recall_score, f1_score, confusion_matrix\n",
        "warnings.filterwarnings('ignore')"
      ],
      "metadata": {
        "id": "pe-bSBuaGZcZ"
      },
      "execution_count": 66,
      "outputs": []
    },
    {
      "cell_type": "markdown",
      "source": [
        "# Global Configuration"
      ],
      "metadata": {
        "id": "zkMRVnEuGgZq"
      }
    },
    {
      "cell_type": "code",
      "source": [
        "# Initialising seed for reproducibility\n",
        "seed =100\n",
        "\n",
        "#Hyperparameters\n",
        "optim = tf.keras.optimizers.Adam(learning_rate=1e-3)\n",
        "loss ='sparse_categorical_crossentropy'\n",
        "epochs = 50\n",
        "\n",
        "# Download the NLTK names dataset\n",
        "nltk.download('names')\n",
        "\n",
        "# Data\n",
        "names = nltk.corpus.names\n",
        "male_names = names.words('male.txt')\n",
        "female_names = names.words('female.txt')"
      ],
      "metadata": {
        "colab": {
          "base_uri": "https://localhost:8080/"
        },
        "id": "RiUJ0diNGfou",
        "outputId": "d5f167df-1ed1-4499-fd36-7c767372a8c4"
      },
      "execution_count": 67,
      "outputs": [
        {
          "output_type": "stream",
          "name": "stderr",
          "text": [
            "[nltk_data] Downloading package names to /root/nltk_data...\n",
            "[nltk_data]   Package names is already up-to-date!\n"
          ]
        }
      ]
    },
    {
      "cell_type": "markdown",
      "source": [
        "# Basic EDA and Preprocessing"
      ],
      "metadata": {
        "id": "1pmK1lrIGjn2"
      }
    },
    {
      "cell_type": "code",
      "source": [
        "# Looking at the number of datapoints for male and female names\n",
        "print('Number of Male names in the dataset : ',len(male_names))\n",
        "print('Number of Female names in the dataset : ',len(female_names))"
      ],
      "metadata": {
        "colab": {
          "base_uri": "https://localhost:8080/"
        },
        "id": "hwWeUiZiGjEG",
        "outputId": "709ed646-6f19-4610-bb0c-b1b140387253"
      },
      "execution_count": 68,
      "outputs": [
        {
          "output_type": "stream",
          "name": "stdout",
          "text": [
            "Number of Male names in the dataset :  2943\n",
            "Number of Female names in the dataset :  5001\n"
          ]
        }
      ]
    },
    {
      "cell_type": "markdown",
      "source": [
        "    Inference : We can see an issue of class imbalanace , so we will treat this first before training the model on this data"
      ],
      "metadata": {
        "id": "VD2ZiGtfHPoo"
      }
    },
    {
      "cell_type": "code",
      "source": [
        "# Create a balanced dataset by considering a common subset of names\n",
        "min_name_count = min(len(male_names), len(female_names))\n",
        "male_names = male_names[:min_name_count]\n",
        "female_names = female_names[:min_name_count]"
      ],
      "metadata": {
        "id": "FeiSsD22HXZ1"
      },
      "execution_count": 69,
      "outputs": []
    },
    {
      "cell_type": "code",
      "source": [
        "# Looking at the number of datapoints for male and female name after treating the class imbalance.\n",
        "print('Number of Male names in the dataset : ',len(male_names))\n",
        "print('Number of Female names in the dataset : ',len(female_names))"
      ],
      "metadata": {
        "colab": {
          "base_uri": "https://localhost:8080/"
        },
        "id": "GbYYkfrIHac7",
        "outputId": "db86683f-c25b-4fe0-f3d1-901939c16005"
      },
      "execution_count": 70,
      "outputs": [
        {
          "output_type": "stream",
          "name": "stdout",
          "text": [
            "Number of Male names in the dataset :  2943\n",
            "Number of Female names in the dataset :  2943\n"
          ]
        }
      ]
    },
    {
      "cell_type": "code",
      "source": [
        "# Create labeled data\n",
        "data = [(name, 'male') for name in male_names] + [(name, 'female') for name in female_names]\n",
        "\n",
        "# Data Preprocessing\n",
        "names, labels = zip(*data)\n",
        "label_encoder = LabelEncoder()\n",
        "labels_encoded = label_encoder.fit_transform(labels)\n",
        "\n",
        "vocab = set(' '.join(names))\n",
        "char_to_index = {char: idx for idx, char in enumerate(vocab)}\n",
        "max_seq_length = max(len(name) for name in names)\n",
        "data_encoded = np.array([[char_to_index[char] for char in name] for name in names])\n",
        "data_padded = tf.keras.preprocessing.sequence.pad_sequences(data_encoded, maxlen=max_seq_length)\n",
        "\n",
        "# Convert labels to numpy arrays\n",
        "labels_encoded = np.array(labels_encoded)"
      ],
      "metadata": {
        "id": "h4RiRoo8HfUD"
      },
      "execution_count": 71,
      "outputs": []
    },
    {
      "cell_type": "markdown",
      "source": [
        "# Train-Test Split"
      ],
      "metadata": {
        "id": "Hh40RKpUHhF_"
      }
    },
    {
      "cell_type": "code",
      "execution_count": 72,
      "metadata": {
        "id": "l7spC0nOGvSd"
      },
      "outputs": [],
      "source": [
        "# Splitting Data\n",
        "train_data, val_data, train_labels, val_labels = train_test_split(data_padded, labels_encoded, test_size=0.2, random_state=seed)\n",
        "\n",
        "# Apply SMOTE to balance the training data\n",
        "smote = SMOTE(random_state=seed)\n",
        "train_data_balanced, train_labels_balanced = smote.fit_resample(train_data, train_labels)"
      ]
    },
    {
      "cell_type": "markdown",
      "source": [
        "# Model"
      ],
      "metadata": {
        "id": "INHo7wNGH2r2"
      }
    },
    {
      "cell_type": "code",
      "source": [
        "# Define PositionalEncoding Layer\n",
        "class PositionalEncoding(tf.keras.layers.Layer):\n",
        "    def __init__(self, position, d_model):\n",
        "        super(PositionalEncoding, self).__init__()\n",
        "        self.pos_encoding = self.positional_encoding(position, d_model)\n",
        "\n",
        "    def get_angles(self, position, i, d_model):\n",
        "        angles = 1 / np.power(10000, (2 * (i // 2)) / np.float32(d_model))\n",
        "        return position * angles\n",
        "\n",
        "    def positional_encoding(self, position, d_model):\n",
        "        angle_rads = self.get_angles(np.arange(position)[:, np.newaxis], np.arange(d_model)[np.newaxis, :], d_model)\n",
        "\n",
        "        # apply sin to even indices in the array; 2i\n",
        "        angle_rads[:, 0::2] = np.sin(angle_rads[:, 0::2])\n",
        "\n",
        "        # apply cos to odd indices in the array; 2i+1\n",
        "        angle_rads[:, 1::2] = np.cos(angle_rads[:, 1::2])\n",
        "\n",
        "        pos_encoding = angle_rads[np.newaxis, ...]\n",
        "\n",
        "        return tf.cast(pos_encoding, dtype=tf.float32)\n",
        "\n",
        "    def call(self, inputs):\n",
        "        return inputs + self.pos_encoding[:, :tf.shape(inputs)[1], :]\n",
        "\n",
        "# LSTM-Based Classifier\n",
        "lstm_model = tf.keras.Sequential([\n",
        "    tf.keras.layers.Embedding(input_dim=len(vocab), output_dim=128, input_length=max_seq_length),\n",
        "    tf.keras.layers.LSTM(64),\n",
        "    tf.keras.layers.Dense(len(label_encoder.classes_), activation='softmax')  # Use softmax for multiclass classification\n",
        "])"
      ],
      "metadata": {
        "id": "2VFQUcOnHzhy"
      },
      "execution_count": 73,
      "outputs": []
    },
    {
      "cell_type": "markdown",
      "source": [
        "#Training"
      ],
      "metadata": {
        "id": "hG1uTYIyJTob"
      }
    },
    {
      "cell_type": "code",
      "source": [
        "st=time.time()\n",
        "lstm_model.compile(optimizer=optim, loss=loss, metrics=['accuracy'])\n",
        "lstm_model.fit(train_data_balanced, train_labels_balanced, validation_data=(val_data, val_labels), epochs=epochs)\n",
        "et=time.time()\n",
        "print(f'\\nExecution Time :{(et-st)/60}minutes\\n')\n",
        "print('-'*60,'Training Complete','-'*60)"
      ],
      "metadata": {
        "colab": {
          "base_uri": "https://localhost:8080/"
        },
        "id": "X3J-Tq5QH-tC",
        "outputId": "20157d5b-395a-4386-b2ba-d82c7228b73f"
      },
      "execution_count": 74,
      "outputs": [
        {
          "output_type": "stream",
          "name": "stdout",
          "text": [
            "Epoch 1/50\n",
            "150/150 [==============================] - 8s 33ms/step - loss: 0.4779 - accuracy: 0.7544 - val_loss: 0.3557 - val_accuracy: 0.8319\n",
            "Epoch 2/50\n",
            "150/150 [==============================] - 3s 19ms/step - loss: 0.3385 - accuracy: 0.8423 - val_loss: 0.3471 - val_accuracy: 0.8268\n",
            "Epoch 3/50\n",
            "150/150 [==============================] - 3s 20ms/step - loss: 0.3290 - accuracy: 0.8492 - val_loss: 0.3476 - val_accuracy: 0.8328\n",
            "Epoch 4/50\n",
            "150/150 [==============================] - 3s 17ms/step - loss: 0.3252 - accuracy: 0.8485 - val_loss: 0.3387 - val_accuracy: 0.8438\n",
            "Epoch 5/50\n",
            "150/150 [==============================] - 2s 13ms/step - loss: 0.3205 - accuracy: 0.8504 - val_loss: 0.3420 - val_accuracy: 0.8413\n",
            "Epoch 6/50\n",
            "150/150 [==============================] - 2s 14ms/step - loss: 0.3187 - accuracy: 0.8504 - val_loss: 0.3344 - val_accuracy: 0.8421\n",
            "Epoch 7/50\n",
            "150/150 [==============================] - 4s 28ms/step - loss: 0.3152 - accuracy: 0.8521 - val_loss: 0.3392 - val_accuracy: 0.8345\n",
            "Epoch 8/50\n",
            "150/150 [==============================] - 4s 29ms/step - loss: 0.3093 - accuracy: 0.8546 - val_loss: 0.3283 - val_accuracy: 0.8463\n",
            "Epoch 9/50\n",
            "150/150 [==============================] - 3s 21ms/step - loss: 0.3078 - accuracy: 0.8559 - val_loss: 0.3342 - val_accuracy: 0.8370\n",
            "Epoch 10/50\n",
            "150/150 [==============================] - 4s 28ms/step - loss: 0.3005 - accuracy: 0.8579 - val_loss: 0.3265 - val_accuracy: 0.8447\n",
            "Epoch 11/50\n",
            "150/150 [==============================] - 5s 31ms/step - loss: 0.2975 - accuracy: 0.8596 - val_loss: 0.3227 - val_accuracy: 0.8430\n",
            "Epoch 12/50\n",
            "150/150 [==============================] - 4s 29ms/step - loss: 0.2954 - accuracy: 0.8588 - val_loss: 0.3325 - val_accuracy: 0.8430\n",
            "Epoch 13/50\n",
            "150/150 [==============================] - 4s 28ms/step - loss: 0.2870 - accuracy: 0.8638 - val_loss: 0.3182 - val_accuracy: 0.8463\n",
            "Epoch 14/50\n",
            "150/150 [==============================] - 3s 17ms/step - loss: 0.2810 - accuracy: 0.8699 - val_loss: 0.3141 - val_accuracy: 0.8472\n",
            "Epoch 15/50\n",
            "150/150 [==============================] - 2s 13ms/step - loss: 0.2740 - accuracy: 0.8722 - val_loss: 0.3237 - val_accuracy: 0.8455\n",
            "Epoch 16/50\n",
            "150/150 [==============================] - 2s 14ms/step - loss: 0.2719 - accuracy: 0.8705 - val_loss: 0.3256 - val_accuracy: 0.8362\n",
            "Epoch 17/50\n",
            "150/150 [==============================] - 2s 12ms/step - loss: 0.2662 - accuracy: 0.8764 - val_loss: 0.3164 - val_accuracy: 0.8430\n",
            "Epoch 18/50\n",
            "150/150 [==============================] - 2s 13ms/step - loss: 0.2582 - accuracy: 0.8839 - val_loss: 0.3118 - val_accuracy: 0.8557\n",
            "Epoch 19/50\n",
            "150/150 [==============================] - 2s 16ms/step - loss: 0.2528 - accuracy: 0.8847 - val_loss: 0.3199 - val_accuracy: 0.8489\n",
            "Epoch 20/50\n",
            "150/150 [==============================] - 2s 12ms/step - loss: 0.2479 - accuracy: 0.8862 - val_loss: 0.3143 - val_accuracy: 0.8506\n",
            "Epoch 21/50\n",
            "150/150 [==============================] - 2s 13ms/step - loss: 0.2398 - accuracy: 0.8877 - val_loss: 0.3305 - val_accuracy: 0.8404\n",
            "Epoch 22/50\n",
            "150/150 [==============================] - 2s 13ms/step - loss: 0.2356 - accuracy: 0.8931 - val_loss: 0.3201 - val_accuracy: 0.8455\n",
            "Epoch 23/50\n",
            "150/150 [==============================] - 2s 14ms/step - loss: 0.2270 - accuracy: 0.8950 - val_loss: 0.3174 - val_accuracy: 0.8591\n",
            "Epoch 24/50\n",
            "150/150 [==============================] - 2s 16ms/step - loss: 0.2247 - accuracy: 0.8931 - val_loss: 0.3172 - val_accuracy: 0.8574\n",
            "Epoch 25/50\n",
            "150/150 [==============================] - 2s 16ms/step - loss: 0.2158 - accuracy: 0.9027 - val_loss: 0.3298 - val_accuracy: 0.8489\n",
            "Epoch 26/50\n",
            "150/150 [==============================] - 2s 14ms/step - loss: 0.2098 - accuracy: 0.9061 - val_loss: 0.3233 - val_accuracy: 0.8557\n",
            "Epoch 27/50\n",
            "150/150 [==============================] - 2s 13ms/step - loss: 0.2013 - accuracy: 0.9100 - val_loss: 0.3183 - val_accuracy: 0.8523\n",
            "Epoch 28/50\n",
            "150/150 [==============================] - 2s 15ms/step - loss: 0.1951 - accuracy: 0.9117 - val_loss: 0.3343 - val_accuracy: 0.8548\n",
            "Epoch 29/50\n",
            "150/150 [==============================] - 2s 15ms/step - loss: 0.1898 - accuracy: 0.9149 - val_loss: 0.3470 - val_accuracy: 0.8506\n",
            "Epoch 30/50\n",
            "150/150 [==============================] - 3s 17ms/step - loss: 0.1819 - accuracy: 0.9222 - val_loss: 0.3345 - val_accuracy: 0.8489\n",
            "Epoch 31/50\n",
            "150/150 [==============================] - 2s 14ms/step - loss: 0.1731 - accuracy: 0.9247 - val_loss: 0.3403 - val_accuracy: 0.8531\n",
            "Epoch 32/50\n",
            "150/150 [==============================] - 2s 13ms/step - loss: 0.1703 - accuracy: 0.9253 - val_loss: 0.3477 - val_accuracy: 0.8531\n",
            "Epoch 33/50\n",
            "150/150 [==============================] - 2s 12ms/step - loss: 0.1627 - accuracy: 0.9270 - val_loss: 0.3361 - val_accuracy: 0.8574\n",
            "Epoch 34/50\n",
            "150/150 [==============================] - 2s 12ms/step - loss: 0.1561 - accuracy: 0.9305 - val_loss: 0.3497 - val_accuracy: 0.8565\n",
            "Epoch 35/50\n",
            "150/150 [==============================] - 2s 12ms/step - loss: 0.1519 - accuracy: 0.9324 - val_loss: 0.3805 - val_accuracy: 0.8557\n",
            "Epoch 36/50\n",
            "150/150 [==============================] - 2s 16ms/step - loss: 0.1440 - accuracy: 0.9339 - val_loss: 0.3847 - val_accuracy: 0.8506\n",
            "Epoch 37/50\n",
            "150/150 [==============================] - 2s 14ms/step - loss: 0.1388 - accuracy: 0.9381 - val_loss: 0.3956 - val_accuracy: 0.8506\n",
            "Epoch 38/50\n",
            "150/150 [==============================] - 2s 13ms/step - loss: 0.1334 - accuracy: 0.9425 - val_loss: 0.3885 - val_accuracy: 0.8565\n",
            "Epoch 39/50\n",
            "150/150 [==============================] - 2s 14ms/step - loss: 0.1269 - accuracy: 0.9431 - val_loss: 0.3834 - val_accuracy: 0.8565\n",
            "Epoch 40/50\n",
            "150/150 [==============================] - 2s 13ms/step - loss: 0.1254 - accuracy: 0.9439 - val_loss: 0.4071 - val_accuracy: 0.8565\n",
            "Epoch 41/50\n",
            "150/150 [==============================] - 2s 12ms/step - loss: 0.1162 - accuracy: 0.9481 - val_loss: 0.4220 - val_accuracy: 0.8506\n",
            "Epoch 42/50\n",
            "150/150 [==============================] - 2s 15ms/step - loss: 0.1165 - accuracy: 0.9473 - val_loss: 0.4076 - val_accuracy: 0.8497\n",
            "Epoch 43/50\n",
            "150/150 [==============================] - 2s 13ms/step - loss: 0.1123 - accuracy: 0.9504 - val_loss: 0.4424 - val_accuracy: 0.8599\n",
            "Epoch 44/50\n",
            "150/150 [==============================] - 2s 13ms/step - loss: 0.1082 - accuracy: 0.9500 - val_loss: 0.4331 - val_accuracy: 0.8616\n",
            "Epoch 45/50\n",
            "150/150 [==============================] - 2s 15ms/step - loss: 0.1046 - accuracy: 0.9523 - val_loss: 0.4384 - val_accuracy: 0.8514\n",
            "Epoch 46/50\n",
            "150/150 [==============================] - 2s 13ms/step - loss: 0.1023 - accuracy: 0.9500 - val_loss: 0.4569 - val_accuracy: 0.8523\n",
            "Epoch 47/50\n",
            "150/150 [==============================] - 2s 15ms/step - loss: 0.0959 - accuracy: 0.9552 - val_loss: 0.4539 - val_accuracy: 0.8506\n",
            "Epoch 48/50\n",
            "150/150 [==============================] - 3s 22ms/step - loss: 0.0931 - accuracy: 0.9556 - val_loss: 0.4934 - val_accuracy: 0.8506\n",
            "Epoch 49/50\n",
            "150/150 [==============================] - 3s 20ms/step - loss: 0.0898 - accuracy: 0.9577 - val_loss: 0.4838 - val_accuracy: 0.8531\n",
            "Epoch 50/50\n",
            "150/150 [==============================] - 3s 18ms/step - loss: 0.0915 - accuracy: 0.9552 - val_loss: 0.4806 - val_accuracy: 0.8489\n",
            "\n",
            "Execution Time :2.1741376757621764minutes\n",
            "\n",
            "------------------------------------------------------------ Training Complete ------------------------------------------------------------\n"
          ]
        }
      ]
    },
    {
      "cell_type": "markdown",
      "source": [
        "#Evaluation"
      ],
      "metadata": {
        "id": "v9aP4u4DJHGI"
      }
    },
    {
      "cell_type": "code",
      "source": [
        "# Assuming you have a new list of names for prediction\n",
        "new_names_lstm = [\"Raheel\", \"Hailey\", \"Shashi\", \"Emily\", \"Reiyo\"]\n",
        "\n",
        "# Data Preprocessing for LSTM Model Prediction\n",
        "new_names_encoded_lstm = np.array([[char_to_index[char] for char in name] for name in new_names_lstm])\n",
        "new_names_padded_lstm = tf.keras.preprocessing.sequence.pad_sequences(new_names_encoded_lstm, maxlen=max_seq_length)\n",
        "\n",
        "# Make Predictions using LSTM Model\n",
        "predictions_lstm = lstm_model.predict(new_names_padded_lstm)\n",
        "predicted_labels_lstm = label_encoder.inverse_transform(np.argmax(predictions_lstm, axis=1))\n",
        "\n",
        "# Print the predictions for LSTM Model\n",
        "print(\"LSTM Model Predictions:\")\n",
        "for name, label in zip(new_names_lstm, predicted_labels_lstm):\n",
        "    print(f\"Name: {name},  Predicted Label: {label}\")"
      ],
      "metadata": {
        "colab": {
          "base_uri": "https://localhost:8080/"
        },
        "id": "f32m9gNgH7-w",
        "outputId": "2db3c90f-7a19-4832-e494-130d57f027c1"
      },
      "execution_count": 75,
      "outputs": [
        {
          "output_type": "stream",
          "name": "stdout",
          "text": [
            "1/1 [==============================] - 0s 327ms/step\n",
            "LSTM Model Predictions:\n",
            "Name: Raheel,  Predicted Label: male\n",
            "Name: Hailey,  Predicted Label: female\n",
            "Name: Shashi,  Predicted Label: male\n",
            "Name: Emily,  Predicted Label: female\n",
            "Name: Reiyo,  Predicted Label: male\n"
          ]
        }
      ]
    },
    {
      "cell_type": "code",
      "execution_count": 76,
      "metadata": {
        "colab": {
          "base_uri": "https://localhost:8080/"
        },
        "id": "UAfNM08b8yfo",
        "outputId": "ab40bb73-fbc0-4c96-aec6-7d3e9b0e0b71"
      },
      "outputs": [
        {
          "output_type": "stream",
          "name": "stdout",
          "text": [
            "37/37 [==============================] - 0s 3ms/step\n",
            "\n",
            "LSTM-Based Classifier Metrics:\n",
            "Accuracy: 84.8896%\n",
            "Precision: 0.8508\n",
            "Recall: 0.8489\n",
            "F1-Score: 0.8490\n",
            "Confusion Matrix:\n",
            "[[482  71]\n",
            " [107 518]]\n"
          ]
        }
      ],
      "source": [
        "# Evaluate LSTM-Based Classifier\n",
        "val_predictions_lstm = lstm_model.predict(val_data)\n",
        "val_predicted_labels_lstm = label_encoder.inverse_transform(np.argmax(val_predictions_lstm, axis=1))\n",
        "val_predicted_labels_lstm_numeric = label_encoder.transform(val_predicted_labels_lstm)\n",
        "\n",
        "accuracy_lstm = accuracy_score(val_labels, val_predicted_labels_lstm_numeric)\n",
        "precision_lstm = precision_score(val_labels, val_predicted_labels_lstm_numeric, average='weighted')\n",
        "recall_lstm = recall_score(val_labels, val_predicted_labels_lstm_numeric, average='weighted')\n",
        "f1_lstm = f1_score(val_labels, val_predicted_labels_lstm_numeric, average='weighted')\n",
        "confusion_matrix_lstm = confusion_matrix(val_labels, val_predicted_labels_lstm_numeric)\n",
        "\n",
        "print(\"\\nLSTM-Based Classifier Metrics:\")\n",
        "print(f\"Accuracy: {accuracy_lstm*100:.4f}%\")\n",
        "print(f\"Precision: {precision_lstm:.4f}\")\n",
        "print(f\"Recall: {recall_lstm:.4f}\")\n",
        "print(f\"F1-Score: {f1_lstm:.4f}\")\n",
        "print(\"Confusion Matrix:\")\n",
        "print(confusion_matrix_lstm)"
      ]
    },
    {
      "cell_type": "code",
      "execution_count": 77,
      "metadata": {
        "colab": {
          "base_uri": "https://localhost:8080/",
          "height": 564
        },
        "id": "yn-z0g1L8yfo",
        "outputId": "2ccb45a7-0775-43fc-d963-b79458f4fea8"
      },
      "outputs": [
        {
          "output_type": "display_data",
          "data": {
            "text/plain": [
              "<Figure size 800x600 with 2 Axes>"
            ],
            "image/png": "[encoded data removed]"
          },
          "metadata": {}
        }
      ],
      "source": [
        "# Confusion Matrix Plot for LSTM-Based Classifier\n",
        "plt.figure(figsize=(8, 6))\n",
        "sns.heatmap(confusion_matrix_lstm, annot=True, fmt=\"d\", cmap=\"Blues\", xticklabels=label_encoder.classes_, yticklabels=label_encoder.classes_)\n",
        "plt.xlabel(\"Predicted Labels\")\n",
        "plt.ylabel(\"True Labels\")\n",
        "plt.title(\"Confusion Matrix - LSTM-Based Classifier\")\n",
        "plt.show()"
      ]
    },
    {
      "cell_type": "markdown",
      "metadata": {
        "id": "ExMITGgCdQWz"
      },
      "source": [
        "# References\n",
        "1. https://arxiv.org/pdf/2102.03692.pdf\n",
        "2. https://alvinntnu.github.io/NTNU_ENC2045_LECTURES/exercise/13-attention.html\n",
        "3. https://towardsdatascience.com/deep-learning-gender-from-name-lstm-recurrent-neural-networks-448d64553044\n",
        "4. https://www.nltk.org/book/ch02.html#sec-lexical-resources"
      ]
    },
    {
      "cell_type": "markdown",
      "metadata": {
        "id": "PHiDsdXLhbbW"
      },
      "source": []
    }
  ],
  "metadata": {
    "colab": {
      "provenance": [],
      "include_colab_link": true
    },
    "kernelspec": {
      "display_name": "Python 3 (ipykernel)",
      "language": "python",
      "name": "python3"
    },
    "language_info": {
      "codemirror_mode": {
        "name": "ipython",
        "version": 3
      },
      "file_extension": ".py",
      "mimetype": "text/x-python",
      "name": "python",
      "nbconvert_exporter": "python",
      "pygments_lexer": "ipython3",
      "version": "3.9.13"
    }
  },
  "nbformat": 4,
  "nbformat_minor": 0
}