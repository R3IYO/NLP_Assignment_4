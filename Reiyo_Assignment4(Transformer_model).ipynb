{
  "nbformat": 4,
  "nbformat_minor": 0,
  "metadata": {
    "colab": {
      "provenance": [],
      "authorship_tag": "ABX9TyM5l2x/NghZ05GBKhOI8gNl",
      "include_colab_link": true
    },
    "kernelspec": {
      "name": "python3",
      "display_name": "Python 3"
    },
    "language_info": {
      "name": "python"
    }
  },
  "cells": [
    {
      "cell_type": "markdown",
      "metadata": {
        "id": "view-in-github",
        "colab_type": "text"
      },
      "source": [
        "<a href=\"https://colab.research.google.com/github/R3IYO/NLP_Assignment_4/blob/main/Reiyo_Assignment4(Transformer_model).ipynb\" target=\"_parent\"><img src=\"https://colab.research.google.com/assets/colab-badge.svg\" alt=\"Open In Colab\"/></a>"
      ]
    },
    {
      "cell_type": "markdown",
      "source": [
        "# Group Members\n",
        "    Reiyo\n",
        "    Sayed Raheel\n",
        "    Shashidhar Reddy\n",
        "    Onkar Kunte"
      ],
      "metadata": {
        "id": "blGR09ewB-C6"
      }
    },
    {
      "cell_type": "markdown",
      "source": [
        "# Part III\n",
        "Using the previous two tutorials, please answer the following using an encorder-decoder approach and an LSTM compared approach.\n",
        "\n",
        "Please create a transformer-based classifier for English name classification into male or female.\n",
        "\n",
        "There are several datasets for name for male or female classification. In subseuqent iterations, this could be expanded to included more classifications.\n",
        "\n",
        "Below is the source from NLTK, which only has male and female available but could be used for the purposes of this assignment.\n",
        "\n",
        "```\n",
        "names = nltk.corpus.names\n",
        "names.fileids()\n",
        "['female.txt', 'male.txt']\n",
        "male_names = names.words('male.txt')\n",
        "female_names = names.words('female.txt')\n",
        "[w for w in male_names if w in female_names]\n",
        "['Abbey', 'Abbie', 'Abby', 'Addie', 'Adrian', 'Adrien', 'Ajay', 'Alex', 'Alexis',\n",
        "'Alfie', 'Ali', 'Alix', 'Allie', 'Allyn', 'Andie', 'Andrea', 'Andy', 'Angel',\n",
        "'Angie', 'Ariel', 'Ashley', 'Aubrey', 'Augustine', 'Austin', 'Averil', ...]\n",
        "```"
      ],
      "metadata": {
        "id": "7IEwiJnMwMvl"
      }
    },
    {
      "cell_type": "markdown",
      "source": [
        "###__We will build an Transformer based classifier for the names in this notebook__"
      ],
      "metadata": {
        "id": "Txr9d08aLWs5"
      }
    },
    {
      "cell_type": "markdown",
      "source": [
        "# Installing Dependencies"
      ],
      "metadata": {
        "id": "iLeFwvnFwOk_"
      }
    },
    {
      "cell_type": "code",
      "execution_count": 135,
      "metadata": {
        "colab": {
          "base_uri": "https://localhost:8080/"
        },
        "id": "-CCZaqY9wI7N",
        "outputId": "be4ddf82-642d-4795-c2bc-08920bab9f34"
      },
      "outputs": [
        {
          "output_type": "stream",
          "name": "stdout",
          "text": [
            "Requirement already satisfied: nltk in /usr/local/lib/python3.10/dist-packages (3.8.1)\n",
            "Requirement already satisfied: click in /usr/local/lib/python3.10/dist-packages (from nltk) (8.1.6)\n",
            "Requirement already satisfied: joblib in /usr/local/lib/python3.10/dist-packages (from nltk) (1.3.1)\n",
            "Requirement already satisfied: regex>=2021.8.3 in /usr/local/lib/python3.10/dist-packages (from nltk) (2022.10.31)\n",
            "Requirement already satisfied: tqdm in /usr/local/lib/python3.10/dist-packages (from nltk) (4.65.0)\n"
          ]
        }
      ],
      "source": [
        "!pip install nltk"
      ]
    },
    {
      "cell_type": "code",
      "source": [
        "!pip install imbalanced-learn"
      ],
      "metadata": {
        "colab": {
          "base_uri": "https://localhost:8080/"
        },
        "id": "zATb01HHwabU",
        "outputId": "c649d173-a240-41f5-f523-b69ae6d57a67"
      },
      "execution_count": 136,
      "outputs": [
        {
          "output_type": "stream",
          "name": "stdout",
          "text": [
            "Requirement already satisfied: imbalanced-learn in /usr/local/lib/python3.10/dist-packages (0.10.1)\n",
            "Requirement already satisfied: numpy>=1.17.3 in /usr/local/lib/python3.10/dist-packages (from imbalanced-learn) (1.22.4)\n",
            "Requirement already satisfied: scipy>=1.3.2 in /usr/local/lib/python3.10/dist-packages (from imbalanced-learn) (1.10.1)\n",
            "Requirement already satisfied: scikit-learn>=1.0.2 in /usr/local/lib/python3.10/dist-packages (from imbalanced-learn) (1.2.2)\n",
            "Requirement already satisfied: joblib>=1.1.1 in /usr/local/lib/python3.10/dist-packages (from imbalanced-learn) (1.3.1)\n",
            "Requirement already satisfied: threadpoolctl>=2.0.0 in /usr/local/lib/python3.10/dist-packages (from imbalanced-learn) (3.2.0)\n"
          ]
        }
      ]
    },
    {
      "cell_type": "markdown",
      "source": [
        "# Importing Necessary Libraries"
      ],
      "metadata": {
        "id": "ZG0gy5VAwciQ"
      }
    },
    {
      "cell_type": "code",
      "source": [
        "import numpy as np\n",
        "import tensorflow as tf\n",
        "import nltk\n",
        "from sklearn.model_selection import train_test_split\n",
        "from sklearn.preprocessing import LabelEncoder\n",
        "from imblearn.over_sampling import SMOTE\n",
        "import time\n",
        "import warnings\n",
        "import numpy as np\n",
        "import matplotlib.pyplot as plt\n",
        "import seaborn as sns\n",
        "from sklearn.metrics import accuracy_score, precision_score, recall_score, f1_score, confusion_matrix\n",
        "warnings.filterwarnings('ignore')"
      ],
      "metadata": {
        "id": "roqrKQK9waxO"
      },
      "execution_count": 137,
      "outputs": []
    },
    {
      "cell_type": "markdown",
      "source": [
        "# Global Configuration"
      ],
      "metadata": {
        "id": "0SgxBjJHw6nz"
      }
    },
    {
      "cell_type": "code",
      "source": [
        "# Initialising seed for reproducibility\n",
        "seed =100\n",
        "\n",
        "#Hyperparameters\n",
        "optim = tf.keras.optimizers.Adam(learning_rate=1e-3)\n",
        "loss ='sparse_categorical_crossentropy'\n",
        "epochs=25\n",
        "\n",
        "#Download the NLTK names dataset\n",
        "nltk.download('names')\n",
        "# Data\n",
        "names = nltk.corpus.names\n",
        "male_names = names.words('male.txt')\n",
        "female_names = names.words('female.txt')"
      ],
      "metadata": {
        "colab": {
          "base_uri": "https://localhost:8080/"
        },
        "id": "wHdN79eaw9Wc",
        "outputId": "ff04c747-930c-4232-cb6f-8139447f9d4b"
      },
      "execution_count": 138,
      "outputs": [
        {
          "output_type": "stream",
          "name": "stderr",
          "text": [
            "[nltk_data] Downloading package names to /root/nltk_data...\n",
            "[nltk_data]   Package names is already up-to-date!\n"
          ]
        }
      ]
    },
    {
      "cell_type": "markdown",
      "source": [
        "# Basic EDA and Preprocessing"
      ],
      "metadata": {
        "id": "I0Q6mqvcwn_F"
      }
    },
    {
      "cell_type": "code",
      "source": [
        "# Looking at the number of datapoints for male and female names\n",
        "print('Number of Male names in the dataset : ',len(male_names))\n",
        "print('Number of Female names in the dataset : ',len(female_names))"
      ],
      "metadata": {
        "colab": {
          "base_uri": "https://localhost:8080/"
        },
        "id": "vgb7xx52xwgo",
        "outputId": "9e3e4dfe-6d13-4291-cef0-d3c3d7495586"
      },
      "execution_count": 139,
      "outputs": [
        {
          "output_type": "stream",
          "name": "stdout",
          "text": [
            "Number of Male names in the dataset :  2943\n",
            "Number of Female names in the dataset :  5001\n"
          ]
        }
      ]
    },
    {
      "cell_type": "markdown",
      "source": [
        "    Inference : We can see an issue of class imbalanace , so we will treat this first before training the model on this data"
      ],
      "metadata": {
        "id": "lPeAVdnax8oV"
      }
    },
    {
      "cell_type": "code",
      "source": [
        "# Create a balanced dataset by considering a common subset of names\n",
        "min_name_count = min(len(male_names), len(female_names))\n",
        "male_names = male_names[:min_name_count]\n",
        "female_names = female_names[:min_name_count]"
      ],
      "metadata": {
        "id": "BVtQM6dn9vfg"
      },
      "execution_count": 140,
      "outputs": []
    },
    {
      "cell_type": "code",
      "source": [
        "# Looking at the number of datapoints for male and female name after treating the class imbalance.\n",
        "print('Number of Male names in the dataset : ',len(male_names))\n",
        "print('Number of Female names in the dataset : ',len(female_names))"
      ],
      "metadata": {
        "colab": {
          "base_uri": "https://localhost:8080/"
        },
        "id": "5TlBVzUhxcUH",
        "outputId": "cc5025f8-9998-4a09-eab5-e3754220f568"
      },
      "execution_count": 141,
      "outputs": [
        {
          "output_type": "stream",
          "name": "stdout",
          "text": [
            "Number of Male names in the dataset :  2943\n",
            "Number of Female names in the dataset :  2943\n"
          ]
        }
      ]
    },
    {
      "cell_type": "code",
      "source": [
        "# Create labeled data\n",
        "data = [(name, 'male') for name in male_names] + [(name, 'female') for name in female_names]"
      ],
      "metadata": {
        "id": "Bm5YiBElyWsS"
      },
      "execution_count": 142,
      "outputs": []
    },
    {
      "cell_type": "code",
      "source": [
        "# Data Preprocessing\n",
        "names, labels = zip(*data)\n",
        "label_encoder = LabelEncoder()\n",
        "labels_encoded = label_encoder.fit_transform(labels)      # Encoding the labels\n",
        "\n",
        "vocab = set(' '.join(names))\n",
        "char_to_index = {char: idx for idx, char in enumerate(vocab)}\n",
        "max_seq_length = max(len(name) for name in names)\n",
        "data_encoded = np.array([[char_to_index[char] for char in name] for name in names])\n",
        "data_padded = tf.keras.preprocessing.sequence.pad_sequences(data_encoded, maxlen=max_seq_length)\n",
        "\n",
        "# Convert labels to numpy arrays\n",
        "labels_encoded = np.array(labels_encoded)"
      ],
      "metadata": {
        "id": "uvj0cnu5yaX7"
      },
      "execution_count": 143,
      "outputs": []
    },
    {
      "cell_type": "markdown",
      "source": [
        "#Train-Test Split"
      ],
      "metadata": {
        "id": "g0su-CriJch_"
      }
    },
    {
      "cell_type": "code",
      "source": [
        "# Splitting Data\n",
        "train_data, val_data, train_labels, val_labels = train_test_split(data_padded, labels_encoded, test_size=0.2, random_state=seed)\n",
        "\n",
        "# Apply SMOTE to balance the training data\n",
        "smote = SMOTE(random_state=seed)\n",
        "train_data_balanced, train_labels_balanced = smote.fit_resample(train_data, train_labels)"
      ],
      "metadata": {
        "id": "tqrak8y28aSd"
      },
      "execution_count": 144,
      "outputs": []
    },
    {
      "cell_type": "markdown",
      "source": [
        "# Model"
      ],
      "metadata": {
        "id": "4eqrWiCiJgJV"
      }
    },
    {
      "cell_type": "code",
      "source": [
        "# Transformer-Based Classifier with Improved Architecture\n",
        "class PositionalEncoding(tf.keras.layers.Layer):\n",
        "    def __init__(self, position, d_model):\n",
        "        super(PositionalEncoding, self).__init__()\n",
        "        self.pos_encoding = self.positional_encoding(position, d_model)\n",
        "\n",
        "    def get_angles(self, position, i, d_model):\n",
        "        angles = 1 / np.power(10000, (2 * (i // 2)) / np.float32(d_model))\n",
        "        return position * angles\n",
        "\n",
        "    def positional_encoding(self, position, d_model):\n",
        "        angle_rads = self.get_angles(np.arange(position)[:, np.newaxis], np.arange(d_model)[np.newaxis, :], d_model)\n",
        "\n",
        "        # apply sin to even indices in the array; 2i\n",
        "        angle_rads[:, 0::2] = np.sin(angle_rads[:, 0::2])\n",
        "\n",
        "        # apply cos to odd indices in the array; 2i+1\n",
        "        angle_rads[:, 1::2] = np.cos(angle_rads[:, 1::2])\n",
        "\n",
        "        pos_encoding = angle_rads[np.newaxis, ...]\n",
        "\n",
        "        return tf.cast(pos_encoding, dtype=tf.float32)\n",
        "\n",
        "    def call(self, inputs):\n",
        "        return inputs + self.pos_encoding[:, :tf.shape(inputs)[1], :]\n",
        "\n",
        "def transformer_classifier(input_shape, vocab_size, num_classes):\n",
        "    inputs = tf.keras.layers.Input(shape=input_shape)\n",
        "\n",
        "    embedding_layer = tf.keras.layers.Embedding(input_dim=vocab_size, output_dim=128)(inputs)\n",
        "    positional_encoding_layer = PositionalEncoding(input_shape[0], 128)(embedding_layer)\n",
        "    attention = tf.keras.layers.MultiHeadAttention(num_heads=8, key_dim=128)(positional_encoding_layer, positional_encoding_layer)\n",
        "    attention = tf.keras.layers.GlobalAveragePooling1D()(attention)\n",
        "\n",
        "    dense = tf.keras.layers.Dense(64, activation='relu')(attention)\n",
        "    output = tf.keras.layers.Dense(num_classes, activation='softmax')(dense)\n",
        "\n",
        "    model = tf.keras.models.Model(inputs=inputs, outputs=output)\n",
        "    return model"
      ],
      "metadata": {
        "id": "V0ic9pCV9CI8"
      },
      "execution_count": 145,
      "outputs": []
    },
    {
      "cell_type": "markdown",
      "source": [
        "#Trianing"
      ],
      "metadata": {
        "id": "OKWWheTQJipo"
      }
    },
    {
      "cell_type": "code",
      "source": [
        "#Instantiating the shape of inputs and trainng the model\n",
        "st=time.time()\n",
        "input_shape = (max_seq_length,)\n",
        "vocab_size = len(vocab)\n",
        "num_classes = len(label_encoder.classes_)\n",
        "\n",
        "transformer_model = transformer_classifier(input_shape, vocab_size, num_classes)\n",
        "transformer_model.compile(optimizer=optim, loss=loss, metrics=['accuracy'])\n",
        "transformer_model.fit(train_data_balanced, train_labels_balanced, validation_data=(val_data, val_labels), epochs=epochs)\n",
        "et=time.time()\n",
        "print(f'\\nExecution Time :{(et-st)/60}minutes\\n')\n",
        "print('-'*60,'Training Complete','-'*60)"
      ],
      "metadata": {
        "colab": {
          "base_uri": "https://localhost:8080/"
        },
        "id": "zSCVJY879ERg",
        "outputId": "36e38c3b-d1c5-463e-eec8-019fd03b66f9"
      },
      "execution_count": 146,
      "outputs": [
        {
          "output_type": "stream",
          "name": "stdout",
          "text": [
            "Epoch 1/25\n",
            "150/150 [==============================] - 25s 155ms/step - loss: 0.5999 - accuracy: 0.6372 - val_loss: 0.3934 - val_accuracy: 0.8200\n",
            "Epoch 2/25\n",
            "150/150 [==============================] - 26s 176ms/step - loss: 0.4036 - accuracy: 0.8090 - val_loss: 0.3563 - val_accuracy: 0.8396\n",
            "Epoch 3/25\n",
            "150/150 [==============================] - 16s 104ms/step - loss: 0.3437 - accuracy: 0.8381 - val_loss: 0.3491 - val_accuracy: 0.8370\n",
            "Epoch 4/25\n",
            "150/150 [==============================] - 13s 89ms/step - loss: 0.3453 - accuracy: 0.8370 - val_loss: 0.4052 - val_accuracy: 0.8234\n",
            "Epoch 5/25\n",
            "150/150 [==============================] - 13s 88ms/step - loss: 0.3334 - accuracy: 0.8400 - val_loss: 0.3506 - val_accuracy: 0.8251\n",
            "Epoch 6/25\n",
            "150/150 [==============================] - 15s 102ms/step - loss: 0.3375 - accuracy: 0.8389 - val_loss: 0.3709 - val_accuracy: 0.8166\n",
            "Epoch 7/25\n",
            "150/150 [==============================] - 14s 95ms/step - loss: 0.3228 - accuracy: 0.8427 - val_loss: 0.3479 - val_accuracy: 0.8413\n",
            "Epoch 8/25\n",
            "150/150 [==============================] - 13s 90ms/step - loss: 0.3234 - accuracy: 0.8475 - val_loss: 0.3392 - val_accuracy: 0.8353\n",
            "Epoch 9/25\n",
            "150/150 [==============================] - 15s 99ms/step - loss: 0.3282 - accuracy: 0.8462 - val_loss: 0.3906 - val_accuracy: 0.8294\n",
            "Epoch 10/25\n",
            "150/150 [==============================] - 18s 122ms/step - loss: 0.3214 - accuracy: 0.8506 - val_loss: 0.3699 - val_accuracy: 0.8098\n",
            "Epoch 11/25\n",
            "150/150 [==============================] - 21s 140ms/step - loss: 0.3142 - accuracy: 0.8477 - val_loss: 0.3827 - val_accuracy: 0.8022\n",
            "Epoch 12/25\n",
            "150/150 [==============================] - 13s 88ms/step - loss: 0.3124 - accuracy: 0.8527 - val_loss: 0.3959 - val_accuracy: 0.8234\n",
            "Epoch 13/25\n",
            "150/150 [==============================] - 14s 95ms/step - loss: 0.3082 - accuracy: 0.8546 - val_loss: 0.3356 - val_accuracy: 0.8302\n",
            "Epoch 14/25\n",
            "150/150 [==============================] - 14s 92ms/step - loss: 0.3139 - accuracy: 0.8504 - val_loss: 0.3691 - val_accuracy: 0.8285\n",
            "Epoch 15/25\n",
            "150/150 [==============================] - 14s 95ms/step - loss: 0.3069 - accuracy: 0.8590 - val_loss: 0.3517 - val_accuracy: 0.8336\n",
            "Epoch 16/25\n",
            "150/150 [==============================] - 16s 106ms/step - loss: 0.3071 - accuracy: 0.8559 - val_loss: 0.3560 - val_accuracy: 0.8098\n",
            "Epoch 17/25\n",
            "150/150 [==============================] - 14s 91ms/step - loss: 0.2992 - accuracy: 0.8619 - val_loss: 0.3617 - val_accuracy: 0.8294\n",
            "Epoch 18/25\n",
            "150/150 [==============================] - 13s 88ms/step - loss: 0.3001 - accuracy: 0.8586 - val_loss: 0.4115 - val_accuracy: 0.7971\n",
            "Epoch 19/25\n",
            "150/150 [==============================] - 14s 91ms/step - loss: 0.2992 - accuracy: 0.8565 - val_loss: 0.3585 - val_accuracy: 0.8260\n",
            "Epoch 20/25\n",
            "150/150 [==============================] - 14s 92ms/step - loss: 0.2961 - accuracy: 0.8598 - val_loss: 0.3654 - val_accuracy: 0.8362\n",
            "Epoch 21/25\n",
            "150/150 [==============================] - 14s 91ms/step - loss: 0.2953 - accuracy: 0.8611 - val_loss: 0.3550 - val_accuracy: 0.8226\n",
            "Epoch 22/25\n",
            "150/150 [==============================] - 14s 91ms/step - loss: 0.2970 - accuracy: 0.8575 - val_loss: 0.3598 - val_accuracy: 0.8370\n",
            "Epoch 23/25\n",
            "150/150 [==============================] - 14s 95ms/step - loss: 0.2904 - accuracy: 0.8619 - val_loss: 0.3414 - val_accuracy: 0.8362\n",
            "Epoch 24/25\n",
            "150/150 [==============================] - 14s 92ms/step - loss: 0.2890 - accuracy: 0.8626 - val_loss: 0.3741 - val_accuracy: 0.8294\n",
            "Epoch 25/25\n",
            "150/150 [==============================] - 14s 91ms/step - loss: 0.2877 - accuracy: 0.8657 - val_loss: 0.3652 - val_accuracy: 0.8345\n",
            "\n",
            "Execution Time :7.408138763904572minutes\n",
            "\n",
            "------------------------------------------------------------ Training Complete ------------------------------------------------------------\n"
          ]
        }
      ]
    },
    {
      "cell_type": "markdown",
      "source": [
        "#Evaluation"
      ],
      "metadata": {
        "id": "jZfwxcWaJk55"
      }
    },
    {
      "cell_type": "code",
      "source": [
        "#Testing the model\n",
        "new_names = ['Reiyo', 'Shashi', 'Abby', 'Raheel', 'Halsey']\n",
        "\n",
        "# Data Preprocessing for Prediction\n",
        "new_names_encoded = np.array([[char_to_index[char] for char in name] for name in new_names])\n",
        "new_names_padded = tf.keras.preprocessing.sequence.pad_sequences(new_names_encoded, maxlen=max_seq_length)\n",
        "\n",
        "# Make Predictions\n",
        "predictions = transformer_model.predict(new_names_padded)\n",
        "\n",
        "# Convert predictions to labels\n",
        "predicted_labels = label_encoder.inverse_transform(np.argmax(predictions, axis=1))\n",
        "\n",
        "# Print the predictions\n",
        "for name, label in zip(new_names, predicted_labels):\n",
        "    print(f\"Name: {name}, Predicted Label: {label}\")"
      ],
      "metadata": {
        "colab": {
          "base_uri": "https://localhost:8080/"
        },
        "id": "PWSJTjOv9j-b",
        "outputId": "12302f40-1614-4584-d78d-6136d08c5b3f"
      },
      "execution_count": 147,
      "outputs": [
        {
          "output_type": "stream",
          "name": "stdout",
          "text": [
            "1/1 [==============================] - 0s 112ms/step\n",
            "Name: Reiyo, Predicted Label: male\n",
            "Name: Shashi, Predicted Label: male\n",
            "Name: Abby, Predicted Label: female\n",
            "Name: Raheel, Predicted Label: male\n",
            "Name: Halsey, Predicted Label: female\n"
          ]
        }
      ]
    },
    {
      "cell_type": "code",
      "source": [
        "# Evaluate metrics\n",
        "val_predictions_transformer = transformer_model.predict(val_data)\n",
        "val_predicted_labels_transformer = label_encoder.inverse_transform(np.argmax(val_predictions_transformer, axis=1))\n",
        "val_predicted_labels_transformer_numeric = label_encoder.transform(val_predicted_labels_transformer)\n",
        "\n",
        "accuracy_transformer = accuracy_score(val_labels, val_predicted_labels_transformer_numeric)\n",
        "precision_transformer = precision_score(val_labels, val_predicted_labels_transformer_numeric, average='weighted')\n",
        "recall_transformer = recall_score(val_labels, val_predicted_labels_transformer_numeric, average='weighted')\n",
        "f1_transformer = f1_score(val_labels, val_predicted_labels_transformer_numeric, average='weighted')\n",
        "confusion_matrix_transformer = confusion_matrix(val_labels, val_predicted_labels_transformer_numeric)\n",
        "\n",
        "print(\"Transformer-Based Classifier Metrics:\")\n",
        "print(f\"Accuracy: {accuracy_transformer*100:.4f}%\")\n",
        "print(f\"Precision: {precision_transformer:.4f}\")\n",
        "print(f\"Recall: {recall_transformer:.4f}\")\n",
        "print(f\"F1-Score: {f1_transformer:.4f}\")\n",
        "print(\"Confusion Matrix:\")\n",
        "print(confusion_matrix_transformer)\n"
      ],
      "metadata": {
        "colab": {
          "base_uri": "https://localhost:8080/"
        },
        "id": "GdPQ-VrF91RD",
        "outputId": "e2f3e93f-47a6-43c6-8320-b55e3ce81c66"
      },
      "execution_count": 150,
      "outputs": [
        {
          "output_type": "stream",
          "name": "stdout",
          "text": [
            "37/37 [==============================] - 2s 48ms/step\n",
            "Transformer-Based Classifier Metrics:\n",
            "Accuracy: 83.4465%\n",
            "Precision: 0.8419\n",
            "Recall: 0.8345\n",
            "F1-Score: 0.8344\n",
            "Confusion Matrix:\n",
            "[[495  58]\n",
            " [137 488]]\n"
          ]
        }
      ]
    },
    {
      "cell_type": "code",
      "source": [
        "# Plot Confusion Matrix\n",
        "plt.figure(figsize=(8, 6))\n",
        "sns.heatmap(confusion_matrix_transformer, annot=True, fmt=\"d\", cmap=\"Blues\", xticklabels=label_encoder.classes_, yticklabels=label_encoder.classes_)\n",
        "plt.xlabel(\"Predicted Labels\")\n",
        "plt.ylabel(\"True Labels\")\n",
        "plt.title(\"Confusion Matrix - Transformer-Based Classifier\")\n",
        "plt.show()"
      ],
      "metadata": {
        "colab": {
          "base_uri": "https://localhost:8080/",
          "height": 564
        },
        "id": "YM3CP56r96Rp",
        "outputId": "cc1bb52b-7b23-48f2-b659-6ee689429c12"
      },
      "execution_count": 149,
      "outputs": [
        {
          "output_type": "display_data",
          "data": {
            "text/plain": [
              "<Figure size 800x600 with 2 Axes>"
            ],
            "image/png": "[encoded data removed]"
          },
          "metadata": {}
        }
      ]
    },
    {
      "cell_type": "markdown",
      "source": [
        "# References\n",
        "1. https://arxiv.org/pdf/2102.03692.pdf\n",
        "2. https://alvinntnu.github.io/NTNU_ENC2045_LECTURES/exercise/13-attention.html\n",
        "3. https://towardsdatascience.com/deep-learning-gender-from-name-lstm-recurrent-neural-networks-448d64553044\n",
        "4. https://www.nltk.org/book/ch02.html#sec-lexical-resources"
      ],
      "metadata": {
        "id": "6zIa3Q3tDkte"
      }
    }
  ]
}